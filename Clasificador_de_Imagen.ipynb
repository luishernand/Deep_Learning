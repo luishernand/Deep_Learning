{
  "nbformat": 4,
  "nbformat_minor": 0,
  "metadata": {
    "colab": {
      "name": "Clasificador de Imagen",
      "provenance": [],
      "private_outputs": true,
      "collapsed_sections": [],
      "authorship_tag": "ABX9TyNRUK7iFCFFp/1hsaRuA3RO",
      "include_colab_link": true
    },
    "kernelspec": {
      "name": "python3",
      "display_name": "Python 3"
    },
    "accelerator": "GPU"
  },
  "cells": [
    {
      "cell_type": "markdown",
      "metadata": {
        "id": "view-in-github",
        "colab_type": "text"
      },
      "source": [
        "<a href=\"https://colab.research.google.com/github/luishernand/Deep_Learning/blob/master/Clasificador_de_Imagen.ipynb\" target=\"_parent\"><img src=\"https://colab.research.google.com/assets/colab-badge.svg\" alt=\"Open In Colab\"/></a>"
      ]
    },
    {
      "cell_type": "markdown",
      "metadata": {
        "id": "QysGxye_aLU5",
        "colab_type": "text"
      },
      "source": [
        "# Clasificador de Imagenes"
      ]
    },
    {
      "cell_type": "markdown",
      "metadata": {
        "id": "KlIVpHBY03vC",
        "colab_type": "text"
      },
      "source": [
        "Autor: Luis Hernández  \n",
        "Fecha: 16  de junio 2020  \n",
        "Descripción: Red Neuronal Convulcional para clasificar imagenes diversas\n"
      ]
    },
    {
      "cell_type": "markdown",
      "metadata": {
        "id": "WlUDbGqBaS_x",
        "colab_type": "text"
      },
      "source": [
        "## Importar Librerias"
      ]
    },
    {
      "cell_type": "code",
      "metadata": {
        "id": "7F_6NZq2aF5G",
        "colab_type": "code",
        "colab": {}
      },
      "source": [
        "import numpy as np\n",
        "import matplotlib.pyplot as plt\n",
        "import tensorflow as tf\n",
        "from tensorflow import keras\n",
        "from keras.models import Sequential\n",
        "from keras.layers import Dense, Activation, Flatten, Conv2D, MaxPool2D, Dropout\n",
        "from keras.utils import to_categorical"
      ],
      "execution_count": null,
      "outputs": []
    },
    {
      "cell_type": "markdown",
      "metadata": {
        "id": "JT8Fs4dJbBtS",
        "colab_type": "text"
      },
      "source": [
        "## Load Dataset"
      ]
    },
    {
      "cell_type": "code",
      "metadata": {
        "id": "3W0b2ns6bAMa",
        "colab_type": "code",
        "colab": {}
      },
      "source": [
        "from keras.datasets import cifar10\n",
        "(X_train, y_train), (X_test, y_test) = cifar10.load_data()\n",
        "X_train.shape, y_train.shape, X_test.shape, y_test.shape"
      ],
      "execution_count": null,
      "outputs": []
    },
    {
      "cell_type": "markdown",
      "metadata": {
        "id": "ukmDZT3-boIz",
        "colab_type": "text"
      },
      "source": [
        "## Visualizar una imagen del dataset"
      ]
    },
    {
      "cell_type": "code",
      "metadata": {
        "id": "ovlF_Wqwbgct",
        "colab_type": "code",
        "colab": {}
      },
      "source": [
        "index = 0\n",
        "X_train[index]"
      ],
      "execution_count": null,
      "outputs": []
    },
    {
      "cell_type": "code",
      "metadata": {
        "id": "H-vrP_6mb1Mj",
        "colab_type": "code",
        "colab": {}
      },
      "source": [
        "fig =  plt.imshow(X_train[index])"
      ],
      "execution_count": null,
      "outputs": []
    },
    {
      "cell_type": "markdown",
      "metadata": {
        "id": "sOTIz67QcBE6",
        "colab_type": "text"
      },
      "source": [
        "### Etiqueta de los datos"
      ]
    },
    {
      "cell_type": "code",
      "metadata": {
        "id": "zeJgVNlAb9Le",
        "colab_type": "code",
        "colab": {}
      },
      "source": [
        "y_train[index]"
      ],
      "execution_count": null,
      "outputs": []
    },
    {
      "cell_type": "code",
      "metadata": {
        "id": "NBUg-j75cLrz",
        "colab_type": "code",
        "colab": {}
      },
      "source": [
        "classifcation = ['airplane', 'automobile', 'bird', 'cat', 'deer',\n",
        "                 'dog', 'frog', 'horse', 'ship', 'truck']\n",
        "classifcation[y_train[index][0]]"
      ],
      "execution_count": null,
      "outputs": []
    },
    {
      "cell_type": "markdown",
      "metadata": {
        "id": "21s2pvfWc5eW",
        "colab_type": "text"
      },
      "source": [
        "## Convertir las etiquetas en  variabes categoricas de (0 a 1), 10 etiquetas"
      ]
    },
    {
      "cell_type": "code",
      "metadata": {
        "id": "rKZWw2xLcwCW",
        "colab_type": "code",
        "colab": {}
      },
      "source": [
        "y_train_one_hot = to_categorical(y_train)\n",
        "y_test_one_hot = to_categorical(y_test)\n",
        "y_train_one_hot"
      ],
      "execution_count": null,
      "outputs": []
    },
    {
      "cell_type": "markdown",
      "metadata": {
        "id": "UhVrxFLtdgKQ",
        "colab_type": "text"
      },
      "source": [
        "## Normalizar los pixeles de 0 a 1"
      ]
    },
    {
      "cell_type": "code",
      "metadata": {
        "id": "0i5JU3fxddWt",
        "colab_type": "code",
        "colab": {}
      },
      "source": [
        "X_train = X_train/255\n",
        "X_test = X_test/255\n",
        "X_train[index]"
      ],
      "execution_count": null,
      "outputs": []
    },
    {
      "cell_type": "markdown",
      "metadata": {
        "id": "df4uWO5Gd7Uv",
        "colab_type": "text"
      },
      "source": [
        "# Crear la Red Neuronal"
      ]
    },
    {
      "cell_type": "code",
      "metadata": {
        "id": "tP32JH4NdxZ7",
        "colab_type": "code",
        "colab": {}
      },
      "source": [
        "model = Sequential()\n",
        "model.add(Conv2D(32,(5,5), activation='relu', input_shape = (32,32,3)))\n",
        "model.add(MaxPool2D(pool_size=(2,2)))\n",
        "model.add(Conv2D(16,(5,5), activation='relu'))\n",
        "model.add(MaxPool2D(pool_size=(2,2)))\n",
        "model.add(Flatten())\n",
        "\n",
        "model.add(Dense(1000, activation='relu'))\n",
        "model.add(Dropout(0.5))\n",
        "model.add(Dense(500, activation='relu'))\n",
        "model.add(Dropout(0.3))\n",
        "model.add(Dense(210, activation='relu'))\n",
        "\n",
        "model.add(Dense(10, activation='softmax'))"
      ],
      "execution_count": null,
      "outputs": []
    },
    {
      "cell_type": "code",
      "metadata": {
        "id": "lkjym4vvfVcf",
        "colab_type": "code",
        "colab": {}
      },
      "source": [
        "model.compile(optimizer='adam', loss= 'categorical_crossentropy', metrics=['accuracy'])"
      ],
      "execution_count": null,
      "outputs": []
    },
    {
      "cell_type": "code",
      "metadata": {
        "id": "fdn7yx3vfnkV",
        "colab_type": "code",
        "colab": {}
      },
      "source": [
        "hist = model.fit(X_train, y_train_one_hot,\n",
        "          batch_size= 300, epochs = 10,validation_split= 0.2 )"
      ],
      "execution_count": null,
      "outputs": []
    },
    {
      "cell_type": "code",
      "metadata": {
        "id": "EJX8zvQlf-ao",
        "colab_type": "code",
        "colab": {}
      },
      "source": [
        "model.evaluate(X_test, y_test_one_hot)[1]"
      ],
      "execution_count": null,
      "outputs": []
    },
    {
      "cell_type": "markdown",
      "metadata": {
        "id": "4JbFyoa9goGI",
        "colab_type": "text"
      },
      "source": [
        "### Visualizar Accuracy"
      ]
    },
    {
      "cell_type": "code",
      "metadata": {
        "id": "x5f4di1tgfn2",
        "colab_type": "code",
        "colab": {}
      },
      "source": [
        "plt.figure(figsize=(12,6))\n",
        "plt.plot(hist.history['accuracy'])\n",
        "plt.plot(hist.history['val_accuracy'])\n",
        "plt.title('Accuracy Score')\n",
        "plt.xlabel('accuracy')\n",
        "plt.ylabel('Epoch')\n",
        "plt.legend(['train', 'validation'], loc= 'upper right')\n",
        "plt.show()"
      ],
      "execution_count": null,
      "outputs": []
    },
    {
      "cell_type": "code",
      "metadata": {
        "id": "cmGem7VGhTMc",
        "colab_type": "code",
        "colab": {}
      },
      "source": [
        "plt.figure(figsize=(12,6))\n",
        "plt.plot(hist.history['loss'])\n",
        "plt.plot(hist.history['val_loss'])\n",
        "plt.title('Loss Score')\n",
        "plt.xlabel('loss')\n",
        "plt.ylabel('Epoch')\n",
        "plt.legend(['train', 'validation'], loc= 'upper right')\n",
        "plt.show()"
      ],
      "execution_count": null,
      "outputs": []
    },
    {
      "cell_type": "markdown",
      "metadata": {
        "id": "dacrQMwfkfWs",
        "colab_type": "text"
      },
      "source": [
        "## Testear el Modelo"
      ]
    },
    {
      "cell_type": "code",
      "metadata": {
        "id": "4ENrprXnj2Mf",
        "colab_type": "code",
        "colab": {}
      },
      "source": [
        "from google.colab import files\n",
        "upload = files.upload()"
      ],
      "execution_count": null,
      "outputs": []
    },
    {
      "cell_type": "code",
      "metadata": {
        "id": "Ss-gmx0loqjF",
        "colab_type": "code",
        "colab": {}
      },
      "source": [
        "new_image = plt.imread('sapo.jpg')\n",
        "img = plt.imshow(new_image)"
      ],
      "execution_count": null,
      "outputs": []
    },
    {
      "cell_type": "markdown",
      "metadata": {
        "id": "aqDXiAiApwBj",
        "colab_type": "text"
      },
      "source": [
        "### Reshape the image size"
      ]
    },
    {
      "cell_type": "code",
      "metadata": {
        "id": "hJtVPEtBpgC_",
        "colab_type": "code",
        "colab": {}
      },
      "source": [
        "new_image.shape"
      ],
      "execution_count": null,
      "outputs": []
    },
    {
      "cell_type": "code",
      "metadata": {
        "id": "-3K50zzJpuMp",
        "colab_type": "code",
        "colab": {}
      },
      "source": [
        "from skimage.transform import resize"
      ],
      "execution_count": null,
      "outputs": []
    },
    {
      "cell_type": "code",
      "metadata": {
        "id": "JrGiSVw5qN3X",
        "colab_type": "code",
        "colab": {}
      },
      "source": [
        "resize_img = resize(new_image, (32,32,3))\n",
        "resize_img.shape"
      ],
      "execution_count": null,
      "outputs": []
    },
    {
      "cell_type": "code",
      "metadata": {
        "id": "V5b3PeYkqc_q",
        "colab_type": "code",
        "colab": {}
      },
      "source": [
        "#Predecir lo nueva imagen\n",
        "\n",
        "prediction = model.predict(np.array([resize_img]))"
      ],
      "execution_count": null,
      "outputs": []
    },
    {
      "cell_type": "code",
      "metadata": {
        "id": "zURx7MMvqw6w",
        "colab_type": "code",
        "colab": {}
      },
      "source": [
        "prediction"
      ],
      "execution_count": null,
      "outputs": []
    },
    {
      "cell_type": "code",
      "metadata": {
        "id": "GmGRHU72qyY9",
        "colab_type": "code",
        "colab": {}
      },
      "source": [
        "#Ordenar el resultado\n",
        "\n",
        "list_index = [0,1,2,3,4,5,6,7,8,9]\n",
        "x = prediction\n",
        "\n",
        "for i in range(10):\n",
        "  for j in range(10):\n",
        "    if x[0][list_index[i]] > x[0][list_index[j]]:\n",
        "      temp = list_index[i]\n",
        "      list_index[i] = list_index[j]\n",
        "      list_index[j] = temp\n",
        "  \n",
        "print(list_index)"
      ],
      "execution_count": null,
      "outputs": []
    },
    {
      "cell_type": "code",
      "metadata": {
        "id": "EGP54_0_r8oK",
        "colab_type": "code",
        "colab": {}
      },
      "source": [
        "# Imprimir el procentaje de clasificación de la predicción\n",
        "\n",
        "for i in range(10):\n",
        "  print(classifcation[list_index[i]], ':', round(prediction[0][list_index[i]]*100,2), '%')"
      ],
      "execution_count": null,
      "outputs": []
    },
    {
      "cell_type": "code",
      "metadata": {
        "id": "bZUaznoWuRkL",
        "colab_type": "code",
        "colab": {}
      },
      "source": [
        ""
      ],
      "execution_count": null,
      "outputs": []
    }
  ]
}