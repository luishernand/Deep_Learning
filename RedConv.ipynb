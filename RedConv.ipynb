{
  "nbformat": 4,
  "nbformat_minor": 0,
  "metadata": {
    "colab": {
      "name": "RedConv.ipynb",
      "provenance": [],
      "private_outputs": true,
      "collapsed_sections": [],
      "authorship_tag": "ABX9TyOcohCT/a8JZJxxOBFHSwev",
      "include_colab_link": true
    },
    "kernelspec": {
      "name": "python3",
      "display_name": "Python 3"
    },
    "accelerator": "GPU"
  },
  "cells": [
    {
      "cell_type": "markdown",
      "metadata": {
        "id": "view-in-github",
        "colab_type": "text"
      },
      "source": [
        "<a href=\"https://colab.research.google.com/github/luishernand/Deep_Learning/blob/master/RedConv.ipynb\" target=\"_parent\"><img src=\"https://colab.research.google.com/assets/colab-badge.svg\" alt=\"Open In Colab\"/></a>"
      ]
    },
    {
      "cell_type": "code",
      "metadata": {
        "id": "jgktWI0wM_QA",
        "colab_type": "code",
        "colab": {}
      },
      "source": [
        "pip install -q tensorflow tensorflow-datasets"
      ],
      "execution_count": 0,
      "outputs": []
    },
    {
      "cell_type": "markdown",
      "metadata": {
        "id": "AVz3fMS_NOWS",
        "colab_type": "text"
      },
      "source": [
        "### Librerias"
      ]
    },
    {
      "cell_type": "code",
      "metadata": {
        "id": "nhTpoSSBNMHG",
        "colab_type": "code",
        "colab": {}
      },
      "source": [
        "import numpy as np\n",
        "import pandas as pd\n",
        "import matplotlib.pyplot as plt\n",
        "\n",
        "import tensorflow as tf\n",
        "import tensorflow_datasets as tfds\n",
        "from tensorflow import keras\n",
        "import keras"
      ],
      "execution_count": 0,
      "outputs": []
    },
    {
      "cell_type": "markdown",
      "metadata": {
        "id": "MOc8nKFNN8DE",
        "colab_type": "text"
      },
      "source": [
        "### Cargar dataset from tensorflow"
      ]
    },
    {
      "cell_type": "code",
      "metadata": {
        "id": "99mjA9drN3bn",
        "colab_type": "code",
        "colab": {}
      },
      "source": [
        "df_train = tfds.load(name='rock_paper_scissors', split='train')\n",
        "df_test = tfds.load(name='rock_paper_scissors', split='test' )"
      ],
      "execution_count": 0,
      "outputs": []
    },
    {
      "cell_type": "markdown",
      "metadata": {
        "id": "B71n9sI4PP7b",
        "colab_type": "text"
      },
      "source": [
        "### Informacion general del dataset"
      ]
    },
    {
      "cell_type": "code",
      "metadata": {
        "id": "QrQgKevbPEi-",
        "colab_type": "code",
        "colab": {}
      },
      "source": [
        "builder = tfds.builder('rock_paper_scissors')\n",
        "info = builder.info\n",
        "\n",
        "info"
      ],
      "execution_count": 0,
      "outputs": []
    },
    {
      "cell_type": "markdown",
      "metadata": {
        "id": "-b6yNNuUOwsr",
        "colab_type": "text"
      },
      "source": [
        "### Visualizar datos"
      ]
    },
    {
      "cell_type": "code",
      "metadata": {
        "id": "vlLARPZhOvNI",
        "colab_type": "code",
        "colab": {}
      },
      "source": [
        "fig = tfds.show_examples(info, df_train)"
      ],
      "execution_count": 0,
      "outputs": []
    },
    {
      "cell_type": "markdown",
      "metadata": {
        "id": "hUirLWDKPp-Q",
        "colab_type": "text"
      },
      "source": [
        "### Preparar los datos"
      ]
    },
    {
      "cell_type": "code",
      "metadata": {
        "id": "DsLN3ayyPgLv",
        "colab_type": "code",
        "colab": {}
      },
      "source": [
        "train_images = np.array([example['image'].numpy()[:,:,0] for example in df_train])\n",
        "train_labels = np.array([example['label'].numpy() for example in df_train])\n",
        "\n",
        "test_images = np.array([example['image'].numpy()[:,:,0] for example in df_test])\n",
        "test_labels = np.array([example['label'].numpy() for example in df_test])"
      ],
      "execution_count": 0,
      "outputs": []
    },
    {
      "cell_type": "code",
      "metadata": {
        "id": "ZNoBmex7QS2J",
        "colab_type": "code",
        "colab": {}
      },
      "source": [
        "#reshape \n",
        "train_images = train_images.reshape(2520,300, 300,1)\n",
        "test_images = test_images.reshape(372,300, 300,1)"
      ],
      "execution_count": 0,
      "outputs": []
    },
    {
      "cell_type": "code",
      "metadata": {
        "id": "mhuPLbDJQ1u6",
        "colab_type": "code",
        "colab": {}
      },
      "source": [
        "#cambiar el tipo de datos\n",
        "train_images = train_images.astype('float32')\n",
        "test_images = test_images.astype('float32')"
      ],
      "execution_count": 0,
      "outputs": []
    },
    {
      "cell_type": "code",
      "metadata": {
        "id": "EV5Q2hb-Q_8V",
        "colab_type": "code",
        "colab": {}
      },
      "source": [
        "train_images= train_images/255\n",
        "test_images = test_images/255"
      ],
      "execution_count": 0,
      "outputs": []
    },
    {
      "cell_type": "markdown",
      "metadata": {
        "id": "t2WZzIxDR89B",
        "colab_type": "text"
      },
      "source": [
        "### Entrenar modelo "
      ]
    },
    {
      "cell_type": "code",
      "metadata": {
        "id": "tXD8H7L9SAOL",
        "colab_type": "code",
        "colab": {}
      },
      "source": [
        "from keras.models import Sequential\n",
        "from keras.layers import Dense, Flatten, Activation"
      ],
      "execution_count": 0,
      "outputs": []
    },
    {
      "cell_type": "code",
      "metadata": {
        "id": "kVUaxYEJS79F",
        "colab_type": "code",
        "colab": {}
      },
      "source": [
        "model = Sequential()\n",
        "model.add(Flatten())\n",
        "model.add(Dense(512, activation='relu'))\n",
        "model.add(Dense(256, activation='relu'))\n",
        "model.add(Dense(3, activation='softmax'))"
      ],
      "execution_count": 0,
      "outputs": []
    },
    {
      "cell_type": "markdown",
      "metadata": {
        "id": "J8IwD4xpXiH-",
        "colab_type": "text"
      },
      "source": [
        "#### Compilar el modelo"
      ]
    },
    {
      "cell_type": "code",
      "metadata": {
        "id": "b5yU1rwPUQym",
        "colab_type": "code",
        "colab": {}
      },
      "source": [
        "model.compile(optimizer='adam', loss='sparse_categorical_crossentropy', metrics=['accuracy'])"
      ],
      "execution_count": 0,
      "outputs": []
    },
    {
      "cell_type": "markdown",
      "metadata": {
        "id": "Rjr0VVyXXchs",
        "colab_type": "text"
      },
      "source": [
        "#### Entrenar el modelo"
      ]
    },
    {
      "cell_type": "code",
      "metadata": {
        "id": "DGEAxoixUX0t",
        "colab_type": "code",
        "colab": {}
      },
      "source": [
        "model.fit(train_images, train_labels, batch_size=32, epochs=5)"
      ],
      "execution_count": 0,
      "outputs": []
    },
    {
      "cell_type": "markdown",
      "metadata": {
        "id": "67sOmZ7FXrg3",
        "colab_type": "text"
      },
      "source": [
        "#### Evaluar el modelo"
      ]
    },
    {
      "cell_type": "code",
      "metadata": {
        "id": "qkNU8fUhXoRU",
        "colab_type": "code",
        "colab": {}
      },
      "source": [
        "model.evaluate(test_images, test_labels)"
      ],
      "execution_count": 0,
      "outputs": []
    },
    {
      "cell_type": "markdown",
      "metadata": {
        "id": "DyO7Mm-uYA96",
        "colab_type": "text"
      },
      "source": [
        "## Convulcional Net"
      ]
    },
    {
      "cell_type": "code",
      "metadata": {
        "id": "eyqL-hQgYKG_",
        "colab_type": "code",
        "colab": {}
      },
      "source": [
        "model= Sequential(\n",
        "    [keras.layers.Conv2D(64,3, activation='relu', input_shape=(300,300,1)),\n",
        "     keras.layers.Conv2D(32,3, activation='relu'),\n",
        "     keras.layers.Flatten(),\n",
        "     keras.layers.Dense(3, activation='softmax')]\n",
        ")\n",
        "\n",
        "model.compile(optimizer='adam', loss = keras.losses.SparseCategoricalCrossentropy(), metrics=['accuracy'])\n",
        "model.fit(train_images, train_labels, epochs=5, batch_size=32)"
      ],
      "execution_count": 0,
      "outputs": []
    },
    {
      "cell_type": "code",
      "metadata": {
        "id": "Pn7RzQvDZ8g3",
        "colab_type": "code",
        "colab": {}
      },
      "source": [
        "model.evaluate(test_images, test_labels)"
      ],
      "execution_count": 0,
      "outputs": []
    },
    {
      "cell_type": "markdown",
      "metadata": {
        "id": "wdEFe-myar3s",
        "colab_type": "text"
      },
      "source": [
        "## Convolutional Net con:\n",
        "\n",
        "\n",
        "*   Average_Pooling\n",
        "*   MaxPool\n",
        "\n"
      ]
    },
    {
      "cell_type": "code",
      "metadata": {
        "id": "B2McicSeak4A",
        "colab_type": "code",
        "colab": {}
      },
      "source": [
        "model = Sequential([\n",
        "                    keras.layers.AveragePooling2D(6,3, input_shape= (300,300,1)),\n",
        "                    keras.layers.Conv2D(64,3, activation='relu'),\n",
        "                    keras.layers.Conv2D(32,3, activation='relu'),\n",
        "                    keras.layers.MaxPool2D(2,2),\n",
        "                    keras.layers.Dropout(0.5),\n",
        "                    keras.layers.Flatten(),\n",
        "                    keras.layers.Dense(128, activation='relu'),\n",
        "                    keras.layers.Dense(3, activation='softmax')\n",
        "])\n",
        "\n",
        "model.compile(optimizer='adam', loss = keras.losses.SparseCategoricalCrossentropy(),\n",
        "              metrics =['accuracy'])\n",
        "model.fit(train_images, train_labels, epochs=5, batch_size=32)"
      ],
      "execution_count": 0,
      "outputs": []
    },
    {
      "cell_type": "code",
      "metadata": {
        "id": "uiSTibXkcjqg",
        "colab_type": "code",
        "colab": {}
      },
      "source": [
        "model.evaluate(test_images, test_labels)"
      ],
      "execution_count": 0,
      "outputs": []
    },
    {
      "cell_type": "markdown",
      "metadata": {
        "id": "_FTKZPOKdFj2",
        "colab_type": "text"
      },
      "source": [
        "### Salvar el modelo y cargar el modelo"
      ]
    },
    {
      "cell_type": "code",
      "metadata": {
        "id": "UCd6e-d4nXSY",
        "colab_type": "code",
        "colab": {}
      },
      "source": [
        "model.save('./my_model')"
      ],
      "execution_count": 0,
      "outputs": []
    },
    {
      "cell_type": "code",
      "metadata": {
        "id": "T7TEqYhkniNy",
        "colab_type": "code",
        "colab": {}
      },
      "source": [
        "load_model = keras.models.load_model('./my_model')"
      ],
      "execution_count": 0,
      "outputs": []
    },
    {
      "cell_type": "code",
      "metadata": {
        "id": "gkEnZ6jGnr-9",
        "colab_type": "code",
        "colab": {}
      },
      "source": [
        "load_model.evaluate(test_images, test_labels)"
      ],
      "execution_count": 0,
      "outputs": []
    }
  ]
}